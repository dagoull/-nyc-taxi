{
 "cells": [
  {
   "cell_type": "code",
   "execution_count": 1,
   "metadata": {},
   "outputs": [],
   "source": [
    "import pandas as pd\n",
    "import numpy as np\n",
    "import matplotlib.pyplot as plt\n",
    "import pygeohash as gh\n",
    "%matplotlib inline"
   ]
  },
  {
   "cell_type": "code",
   "execution_count": 2,
   "metadata": {},
   "outputs": [
    {
     "name": "stderr",
     "output_type": "stream",
     "text": [
      "C:\\Users\\msleo\\anaconda2\\lib\\site-packages\\sklearn\\ensemble\\weight_boosting.py:29: DeprecationWarning: numpy.core.umath_tests is an internal NumPy module and should not be imported. It will be removed in a future NumPy release.\n",
      "  from numpy.core.umath_tests import inner1d\n"
     ]
    }
   ],
   "source": [
    "from sklearn.linear_model import LinearRegression\n",
    "from sklearn.metrics import mean_squared_error, r2_score\n",
    "from sklearn import ensemble"
   ]
  },
  {
   "cell_type": "code",
   "execution_count": 133,
   "metadata": {},
   "outputs": [
    {
     "data": {
      "text/html": [
       "<div>\n",
       "<style scoped>\n",
       "    .dataframe tbody tr th:only-of-type {\n",
       "        vertical-align: middle;\n",
       "    }\n",
       "\n",
       "    .dataframe tbody tr th {\n",
       "        vertical-align: top;\n",
       "    }\n",
       "\n",
       "    .dataframe thead th {\n",
       "        text-align: right;\n",
       "    }\n",
       "</style>\n",
       "<table border=\"1\" class=\"dataframe\">\n",
       "  <thead>\n",
       "    <tr style=\"text-align: right;\">\n",
       "      <th></th>\n",
       "      <th>vendor_id</th>\n",
       "      <th>pickup_datetime</th>\n",
       "      <th>dropoff_datetime</th>\n",
       "      <th>passenger_count</th>\n",
       "      <th>trip_distance</th>\n",
       "      <th>pickup_longitude</th>\n",
       "      <th>pickup_latitude</th>\n",
       "      <th>rate_code</th>\n",
       "      <th>store_and_fwd_flag</th>\n",
       "      <th>dropoff_longitude</th>\n",
       "      <th>dropoff_latitude</th>\n",
       "      <th>payment_type</th>\n",
       "      <th>fare_amount</th>\n",
       "      <th>extra</th>\n",
       "      <th>mta_tax</th>\n",
       "      <th>tip_amount</th>\n",
       "      <th>tolls_amount</th>\n",
       "      <th>imp_surcharge</th>\n",
       "      <th>total_amount</th>\n",
       "    </tr>\n",
       "  </thead>\n",
       "  <tbody>\n",
       "    <tr>\n",
       "      <th>0</th>\n",
       "      <td>2</td>\n",
       "      <td>2015-07-18 11:25:58</td>\n",
       "      <td>2015-07-18 11:43:47</td>\n",
       "      <td>1</td>\n",
       "      <td>7.21</td>\n",
       "      <td>-73.862762</td>\n",
       "      <td>40.769028</td>\n",
       "      <td>1.0</td>\n",
       "      <td>N</td>\n",
       "      <td>-73.949203</td>\n",
       "      <td>40.722584</td>\n",
       "      <td>1</td>\n",
       "      <td>22.5</td>\n",
       "      <td>0.0</td>\n",
       "      <td>0.5</td>\n",
       "      <td>4.66</td>\n",
       "      <td>0.00</td>\n",
       "      <td>0.3</td>\n",
       "      <td>27.96</td>\n",
       "    </tr>\n",
       "    <tr>\n",
       "      <th>1</th>\n",
       "      <td>1</td>\n",
       "      <td>2015-03-15 12:50:01</td>\n",
       "      <td>2015-03-15 13:23:35</td>\n",
       "      <td>1</td>\n",
       "      <td>10.80</td>\n",
       "      <td>-73.870926</td>\n",
       "      <td>40.773727</td>\n",
       "      <td>NaN</td>\n",
       "      <td>N</td>\n",
       "      <td>-73.988228</td>\n",
       "      <td>40.765694</td>\n",
       "      <td>1</td>\n",
       "      <td>34.5</td>\n",
       "      <td>0.0</td>\n",
       "      <td>0.5</td>\n",
       "      <td>8.10</td>\n",
       "      <td>5.33</td>\n",
       "      <td>0.3</td>\n",
       "      <td>48.73</td>\n",
       "    </tr>\n",
       "    <tr>\n",
       "      <th>2</th>\n",
       "      <td>2</td>\n",
       "      <td>2015-04-30 12:25:44</td>\n",
       "      <td>2015-04-30 13:03:51</td>\n",
       "      <td>1</td>\n",
       "      <td>4.28</td>\n",
       "      <td>-73.978180</td>\n",
       "      <td>40.762341</td>\n",
       "      <td>NaN</td>\n",
       "      <td>N</td>\n",
       "      <td>-74.008911</td>\n",
       "      <td>40.710789</td>\n",
       "      <td>1</td>\n",
       "      <td>24.5</td>\n",
       "      <td>0.0</td>\n",
       "      <td>0.5</td>\n",
       "      <td>2.50</td>\n",
       "      <td>0.00</td>\n",
       "      <td>0.3</td>\n",
       "      <td>27.80</td>\n",
       "    </tr>\n",
       "    <tr>\n",
       "      <th>3</th>\n",
       "      <td>2</td>\n",
       "      <td>2015-05-28 08:47:56</td>\n",
       "      <td>2015-05-28 09:26:08</td>\n",
       "      <td>1</td>\n",
       "      <td>18.47</td>\n",
       "      <td>-73.776711</td>\n",
       "      <td>40.645302</td>\n",
       "      <td>NaN</td>\n",
       "      <td>N</td>\n",
       "      <td>-73.843422</td>\n",
       "      <td>40.852852</td>\n",
       "      <td>1</td>\n",
       "      <td>51.0</td>\n",
       "      <td>0.0</td>\n",
       "      <td>0.5</td>\n",
       "      <td>7.00</td>\n",
       "      <td>5.54</td>\n",
       "      <td>0.3</td>\n",
       "      <td>64.34</td>\n",
       "    </tr>\n",
       "    <tr>\n",
       "      <th>4</th>\n",
       "      <td>1</td>\n",
       "      <td>2015-06-20 19:36:17</td>\n",
       "      <td>2015-06-20 20:10:49</td>\n",
       "      <td>1</td>\n",
       "      <td>15.50</td>\n",
       "      <td>-73.777054</td>\n",
       "      <td>40.644947</td>\n",
       "      <td>NaN</td>\n",
       "      <td>Y</td>\n",
       "      <td>-73.946800</td>\n",
       "      <td>40.725021</td>\n",
       "      <td>1</td>\n",
       "      <td>44.5</td>\n",
       "      <td>0.0</td>\n",
       "      <td>0.5</td>\n",
       "      <td>9.06</td>\n",
       "      <td>0.00</td>\n",
       "      <td>0.3</td>\n",
       "      <td>54.36</td>\n",
       "    </tr>\n",
       "  </tbody>\n",
       "</table>\n",
       "</div>"
      ],
      "text/plain": [
       "   vendor_id      pickup_datetime     dropoff_datetime  passenger_count  \\\n",
       "0          2  2015-07-18 11:25:58  2015-07-18 11:43:47                1   \n",
       "1          1  2015-03-15 12:50:01  2015-03-15 13:23:35                1   \n",
       "2          2  2015-04-30 12:25:44  2015-04-30 13:03:51                1   \n",
       "3          2  2015-05-28 08:47:56  2015-05-28 09:26:08                1   \n",
       "4          1  2015-06-20 19:36:17  2015-06-20 20:10:49                1   \n",
       "\n",
       "   trip_distance  pickup_longitude  pickup_latitude  rate_code  \\\n",
       "0           7.21        -73.862762        40.769028        1.0   \n",
       "1          10.80        -73.870926        40.773727        NaN   \n",
       "2           4.28        -73.978180        40.762341        NaN   \n",
       "3          18.47        -73.776711        40.645302        NaN   \n",
       "4          15.50        -73.777054        40.644947        NaN   \n",
       "\n",
       "  store_and_fwd_flag  dropoff_longitude  dropoff_latitude  payment_type  \\\n",
       "0                  N         -73.949203         40.722584             1   \n",
       "1                  N         -73.988228         40.765694             1   \n",
       "2                  N         -74.008911         40.710789             1   \n",
       "3                  N         -73.843422         40.852852             1   \n",
       "4                  Y         -73.946800         40.725021             1   \n",
       "\n",
       "   fare_amount  extra  mta_tax  tip_amount  tolls_amount  imp_surcharge  \\\n",
       "0         22.5    0.0      0.5        4.66          0.00            0.3   \n",
       "1         34.5    0.0      0.5        8.10          5.33            0.3   \n",
       "2         24.5    0.0      0.5        2.50          0.00            0.3   \n",
       "3         51.0    0.0      0.5        7.00          5.54            0.3   \n",
       "4         44.5    0.0      0.5        9.06          0.00            0.3   \n",
       "\n",
       "   total_amount  \n",
       "0         27.96  \n",
       "1         48.73  \n",
       "2         27.80  \n",
       "3         64.34  \n",
       "4         54.36  "
      ]
     },
     "execution_count": 133,
     "metadata": {},
     "output_type": "execute_result"
    }
   ],
   "source": [
    "df = pd.read_csv('data.csv')\n",
    "df.drop(['Unnamed: 0'], axis = 1, inplace = True)\n",
    "df.head()"
   ]
  },
  {
   "cell_type": "code",
   "execution_count": 134,
   "metadata": {},
   "outputs": [
    {
     "data": {
      "image/png": "[encoded data removed]",
      "text/plain": [
       "<Figure size 720x360 with 2 Axes>"
      ]
     },
     "metadata": {
      "needs_background": "light"
     },
     "output_type": "display_data"
    }
   ],
   "source": [
    "# Check the distribution of trip_distance and fare_amount\n",
    "df[['trip_distance','fare_amount']].hist(figsize = (10,5), bins=50);"
   ]
  },
  {
   "cell_type": "code",
   "execution_count": 135,
   "metadata": {},
   "outputs": [
    {
     "data": {
      "image/png": "[encoded data removed]",
      "text/plain": [
       "<Figure size 432x288 with 1 Axes>"
      ]
     },
     "metadata": {
      "needs_background": "light"
     },
     "output_type": "display_data"
    }
   ],
   "source": [
    "plt.scatter(df['trip_distance'], df['fare_amount']);"
   ]
  },
  {
   "cell_type": "code",
   "execution_count": 136,
   "metadata": {},
   "outputs": [
    {
     "data": {
      "image/png": "[encoded data removed]",
      "text/plain": [
       "<Figure size 720x360 with 2 Axes>"
      ]
     },
     "metadata": {
      "needs_background": "light"
     },
     "output_type": "display_data"
    }
   ],
   "source": [
    "# Remove those rows with very low or very high fare_amount or trip_distance\n",
    "df_filtered = df[(df['trip_distance'] >= 2) & (df['trip_distance'] <= 50) & (df['fare_amount'] >= 3) & (df['fare_amount'] <=300)]\n",
    "df_filtered[['trip_distance','fare_amount']].hist(figsize = (10,5), bins=50);"
   ]
  },
  {
   "cell_type": "code",
   "execution_count": 137,
   "metadata": {},
   "outputs": [
    {
     "data": {
      "image/png": "[encoded data removed]",
      "text/plain": [
       "<Figure size 432x288 with 1 Axes>"
      ]
     },
     "metadata": {
      "needs_background": "light"
     },
     "output_type": "display_data"
    }
   ],
   "source": [
    "plt.scatter(df_filtered['trip_distance'], df_filtered['fare_amount']);"
   ]
  },
  {
   "cell_type": "code",
   "execution_count": 138,
   "metadata": {},
   "outputs": [
    {
     "name": "stderr",
     "output_type": "stream",
     "text": [
      "C:\\Users\\msleo\\anaconda2\\lib\\site-packages\\ipykernel_launcher.py:2: SettingWithCopyWarning: \n",
      "A value is trying to be set on a copy of a slice from a DataFrame.\n",
      "Try using .loc[row_indexer,col_indexer] = value instead\n",
      "\n",
      "See the caveats in the documentation: http://pandas.pydata.org/pandas-docs/stable/indexing.html#indexing-view-versus-copy\n",
      "  \n",
      "C:\\Users\\msleo\\anaconda2\\lib\\site-packages\\ipykernel_launcher.py:3: SettingWithCopyWarning: \n",
      "A value is trying to be set on a copy of a slice from a DataFrame.\n",
      "Try using .loc[row_indexer,col_indexer] = value instead\n",
      "\n",
      "See the caveats in the documentation: http://pandas.pydata.org/pandas-docs/stable/indexing.html#indexing-view-versus-copy\n",
      "  This is separate from the ipykernel package so we can avoid doing imports until\n",
      "C:\\Users\\msleo\\anaconda2\\lib\\site-packages\\ipykernel_launcher.py:4: SettingWithCopyWarning: \n",
      "A value is trying to be set on a copy of a slice from a DataFrame.\n",
      "Try using .loc[row_indexer,col_indexer] = value instead\n",
      "\n",
      "See the caveats in the documentation: http://pandas.pydata.org/pandas-docs/stable/indexing.html#indexing-view-versus-copy\n",
      "  after removing the cwd from sys.path.\n",
      "C:\\Users\\msleo\\anaconda2\\lib\\site-packages\\ipykernel_launcher.py:5: SettingWithCopyWarning: \n",
      "A value is trying to be set on a copy of a slice from a DataFrame.\n",
      "Try using .loc[row_indexer,col_indexer] = value instead\n",
      "\n",
      "See the caveats in the documentation: http://pandas.pydata.org/pandas-docs/stable/indexing.html#indexing-view-versus-copy\n",
      "  \"\"\"\n"
     ]
    }
   ],
   "source": [
    "# Add trip_duration and year\n",
    "df_filtered['pickup_datetime'] = pd.to_datetime(df_filtered['pickup_datetime'])\n",
    "df_filtered['dropoff_datetime'] = pd.to_datetime(df_filtered['dropoff_datetime'])\n",
    "df_filtered['trip_duration'] = (df_filtered['dropoff_datetime']-df_filtered['pickup_datetime']).dt.total_seconds()/60\n",
    "df_filtered['year'] = df_filtered['pickup_datetime'].dt.year"
   ]
  },
  {
   "cell_type": "code",
   "execution_count": 139,
   "metadata": {},
   "outputs": [
    {
     "data": {
      "image/png": "[encoded data removed]",
      "text/plain": [
       "<Figure size 720x360 with 1 Axes>"
      ]
     },
     "metadata": {
      "needs_background": "light"
     },
     "output_type": "display_data"
    }
   ],
   "source": [
    "df_filtered['trip_duration'].hist(figsize = (10,5), bins=50);"
   ]
  },
  {
   "cell_type": "code",
   "execution_count": 140,
   "metadata": {},
   "outputs": [
    {
     "data": {
      "image/png": "[encoded data removed]",
      "text/plain": [
       "<Figure size 720x360 with 1 Axes>"
      ]
     },
     "metadata": {
      "needs_background": "light"
     },
     "output_type": "display_data"
    }
   ],
   "source": [
    "df_filtered = df_filtered[(df_filtered['trip_duration'] <= 200) & (df_filtered['trip_duration'] > 1)]\n",
    "df_filtered['trip_duration'].hist(figsize = (10,5), bins=50);"
   ]
  },
  {
   "cell_type": "code",
   "execution_count": 141,
   "metadata": {},
   "outputs": [
    {
     "data": {
      "image/png": "[encoded data removed]",
      "text/plain": [
       "<Figure size 432x288 with 1 Axes>"
      ]
     },
     "metadata": {
      "needs_background": "light"
     },
     "output_type": "display_data"
    }
   ],
   "source": [
    "plt.scatter(df_filtered['trip_duration'], df_filtered['fare_amount']);"
   ]
  },
  {
   "cell_type": "code",
   "execution_count": 142,
   "metadata": {},
   "outputs": [],
   "source": [
    "def train_test_split(X, y):\n",
    "    X_train = X.loc[X['year'] == 2015].drop('year', axis=1)\n",
    "    y_train = y.loc[y['year'] == 2015].drop('year', axis=1).values.ravel()\n",
    "    X_test = X.loc[X['year'] == 2016].drop('year', axis=1)\n",
    "    y_test = y.loc[y['year'] == 2016].drop('year', axis=1).values.ravel()\n",
    "    return X_train, y_train, X_test, y_test\n",
    "  \n",
    "def model_results(X_train, y_train, X_test, y_test, model):\n",
    "    y_train_pred = model.predict(X_train)\n",
    "    y_test_pred = model.predict(X_test)\n",
    "    print(\"----Training Data results (2015 data set)----\")\n",
    "    print(\"RMSE: ${:.1f}\".format(mean_squared_error(y_train, y_train_pred)**0.5))\n",
    "    print(\"R2: {:.2f}\\n\".format(r2_score(y_train, y_train_pred)))\n",
    "    \n",
    "    print(\"----Test Data results (2016 data set)----\")\n",
    "    print(\"RMSE: ${:.1f}\".format(mean_squared_error(y_test, y_test_pred)**0.5))\n",
    "    print(\"R2: {:.2f}\\n\".format(r2_score(y_test, y_test_pred)))"
   ]
  },
  {
   "cell_type": "code",
   "execution_count": 143,
   "metadata": {},
   "outputs": [],
   "source": [
    "# Create Train and Test sets\n",
    "y = df_filtered[['fare_amount', 'year']]\n",
    "X = df_filtered[['trip_distance', 'trip_duration', 'year']]\n",
    "X_train, y_train, X_test, y_test = train_test_split(X, y)"
   ]
  },
  {
   "cell_type": "code",
   "execution_count": 144,
   "metadata": {},
   "outputs": [
    {
     "data": {
      "text/html": [
       "<div>\n",
       "<style scoped>\n",
       "    .dataframe tbody tr th:only-of-type {\n",
       "        vertical-align: middle;\n",
       "    }\n",
       "\n",
       "    .dataframe tbody tr th {\n",
       "        vertical-align: top;\n",
       "    }\n",
       "\n",
       "    .dataframe thead th {\n",
       "        text-align: right;\n",
       "    }\n",
       "</style>\n",
       "<table border=\"1\" class=\"dataframe\">\n",
       "  <thead>\n",
       "    <tr style=\"text-align: right;\">\n",
       "      <th></th>\n",
       "      <th>trip_distance</th>\n",
       "      <th>trip_duration</th>\n",
       "    </tr>\n",
       "  </thead>\n",
       "  <tbody>\n",
       "    <tr>\n",
       "      <th>0</th>\n",
       "      <td>7.21</td>\n",
       "      <td>17.816667</td>\n",
       "    </tr>\n",
       "    <tr>\n",
       "      <th>1</th>\n",
       "      <td>10.80</td>\n",
       "      <td>33.566667</td>\n",
       "    </tr>\n",
       "    <tr>\n",
       "      <th>2</th>\n",
       "      <td>4.28</td>\n",
       "      <td>38.116667</td>\n",
       "    </tr>\n",
       "    <tr>\n",
       "      <th>3</th>\n",
       "      <td>18.47</td>\n",
       "      <td>38.200000</td>\n",
       "    </tr>\n",
       "    <tr>\n",
       "      <th>4</th>\n",
       "      <td>15.50</td>\n",
       "      <td>34.533333</td>\n",
       "    </tr>\n",
       "  </tbody>\n",
       "</table>\n",
       "</div>"
      ],
      "text/plain": [
       "   trip_distance  trip_duration\n",
       "0           7.21      17.816667\n",
       "1          10.80      33.566667\n",
       "2           4.28      38.116667\n",
       "3          18.47      38.200000\n",
       "4          15.50      34.533333"
      ]
     },
     "execution_count": 144,
     "metadata": {},
     "output_type": "execute_result"
    }
   ],
   "source": [
    "X_train.head()"
   ]
  },
  {
   "cell_type": "code",
   "execution_count": 145,
   "metadata": {},
   "outputs": [
    {
     "name": "stdout",
     "output_type": "stream",
     "text": [
      "----Training Data results (2015 data set)----\n",
      "RMSE: $5.6\n",
      "R2: 0.79\n",
      "\n",
      "----Test Data results (2016 data set)----\n",
      "RMSE: $5.5\n",
      "R2: 0.81\n",
      "\n"
     ]
    }
   ],
   "source": [
    "# Simple bivariate model\n",
    "lm = LinearRegression().fit(X_train,y_train)\n",
    "model_results(X_train, y_train, X_test, y_test, lm)"
   ]
  },
  {
   "cell_type": "markdown",
   "metadata": {},
   "source": [
    "# Simple Linear model results\n",
    "- Simple bivariate linear model has a high RMSE as 5.5\n",
    "- Try multivariate linear model to reduce the RMSE"
   ]
  },
  {
   "cell_type": "markdown",
   "metadata": {},
   "source": [
    "# Feature Engineering\n",
    "Add in features as below\n",
    "1. Pickup month\n",
    "2. Pickup day of the week\n",
    "3. Pickup hour of the day\n",
    "4. Lattitude difference\n",
    "5. Longitude difference\n",
    "6. Geohashed pickup location (idea from internet)\n",
    "7. Geohashed dropoff location (idea from internet)"
   ]
  },
  {
   "cell_type": "code",
   "execution_count": 146,
   "metadata": {},
   "outputs": [
    {
     "data": {
      "text/html": [
       "<div>\n",
       "<style scoped>\n",
       "    .dataframe tbody tr th:only-of-type {\n",
       "        vertical-align: middle;\n",
       "    }\n",
       "\n",
       "    .dataframe tbody tr th {\n",
       "        vertical-align: top;\n",
       "    }\n",
       "\n",
       "    .dataframe thead th {\n",
       "        text-align: right;\n",
       "    }\n",
       "</style>\n",
       "<table border=\"1\" class=\"dataframe\">\n",
       "  <thead>\n",
       "    <tr style=\"text-align: right;\">\n",
       "      <th></th>\n",
       "      <th>vendor_id</th>\n",
       "      <th>pickup_datetime</th>\n",
       "      <th>dropoff_datetime</th>\n",
       "      <th>passenger_count</th>\n",
       "      <th>trip_distance</th>\n",
       "      <th>pickup_longitude</th>\n",
       "      <th>pickup_latitude</th>\n",
       "      <th>rate_code</th>\n",
       "      <th>store_and_fwd_flag</th>\n",
       "      <th>dropoff_longitude</th>\n",
       "      <th>...</th>\n",
       "      <th>trip_duration</th>\n",
       "      <th>year</th>\n",
       "      <th>day</th>\n",
       "      <th>month</th>\n",
       "      <th>day_of_week</th>\n",
       "      <th>hour_of_day</th>\n",
       "      <th>lat_dif</th>\n",
       "      <th>lon_dif</th>\n",
       "      <th>pickup_geohash</th>\n",
       "      <th>dropoff_geohash</th>\n",
       "    </tr>\n",
       "  </thead>\n",
       "  <tbody>\n",
       "    <tr>\n",
       "      <th>0</th>\n",
       "      <td>2</td>\n",
       "      <td>2015-07-18 11:25:58</td>\n",
       "      <td>2015-07-18 11:43:47</td>\n",
       "      <td>1</td>\n",
       "      <td>7.21</td>\n",
       "      <td>-73.862762</td>\n",
       "      <td>40.769028</td>\n",
       "      <td>1.0</td>\n",
       "      <td>N</td>\n",
       "      <td>-73.949203</td>\n",
       "      <td>...</td>\n",
       "      <td>17.816667</td>\n",
       "      <td>2015</td>\n",
       "      <td>18</td>\n",
       "      <td>7</td>\n",
       "      <td>Saturday</td>\n",
       "      <td>11</td>\n",
       "      <td>0.046444</td>\n",
       "      <td>0.086441</td>\n",
       "      <td>dr5rz</td>\n",
       "      <td>dr5rt</td>\n",
       "    </tr>\n",
       "    <tr>\n",
       "      <th>1</th>\n",
       "      <td>1</td>\n",
       "      <td>2015-03-15 12:50:01</td>\n",
       "      <td>2015-03-15 13:23:35</td>\n",
       "      <td>1</td>\n",
       "      <td>10.80</td>\n",
       "      <td>-73.870926</td>\n",
       "      <td>40.773727</td>\n",
       "      <td>NaN</td>\n",
       "      <td>N</td>\n",
       "      <td>-73.988228</td>\n",
       "      <td>...</td>\n",
       "      <td>33.566667</td>\n",
       "      <td>2015</td>\n",
       "      <td>15</td>\n",
       "      <td>3</td>\n",
       "      <td>Sunday</td>\n",
       "      <td>12</td>\n",
       "      <td>0.008034</td>\n",
       "      <td>0.117302</td>\n",
       "      <td>dr5rz</td>\n",
       "      <td>dr5ru</td>\n",
       "    </tr>\n",
       "    <tr>\n",
       "      <th>2</th>\n",
       "      <td>2</td>\n",
       "      <td>2015-04-30 12:25:44</td>\n",
       "      <td>2015-04-30 13:03:51</td>\n",
       "      <td>1</td>\n",
       "      <td>4.28</td>\n",
       "      <td>-73.978180</td>\n",
       "      <td>40.762341</td>\n",
       "      <td>NaN</td>\n",
       "      <td>N</td>\n",
       "      <td>-74.008911</td>\n",
       "      <td>...</td>\n",
       "      <td>38.116667</td>\n",
       "      <td>2015</td>\n",
       "      <td>30</td>\n",
       "      <td>4</td>\n",
       "      <td>Thursday</td>\n",
       "      <td>12</td>\n",
       "      <td>0.051552</td>\n",
       "      <td>0.030731</td>\n",
       "      <td>dr5ru</td>\n",
       "      <td>dr5re</td>\n",
       "    </tr>\n",
       "    <tr>\n",
       "      <th>3</th>\n",
       "      <td>2</td>\n",
       "      <td>2015-05-28 08:47:56</td>\n",
       "      <td>2015-05-28 09:26:08</td>\n",
       "      <td>1</td>\n",
       "      <td>18.47</td>\n",
       "      <td>-73.776711</td>\n",
       "      <td>40.645302</td>\n",
       "      <td>NaN</td>\n",
       "      <td>N</td>\n",
       "      <td>-73.843422</td>\n",
       "      <td>...</td>\n",
       "      <td>38.200000</td>\n",
       "      <td>2015</td>\n",
       "      <td>28</td>\n",
       "      <td>5</td>\n",
       "      <td>Thursday</td>\n",
       "      <td>8</td>\n",
       "      <td>-0.207550</td>\n",
       "      <td>0.066711</td>\n",
       "      <td>dr5x1</td>\n",
       "      <td>dr72r</td>\n",
       "    </tr>\n",
       "    <tr>\n",
       "      <th>4</th>\n",
       "      <td>1</td>\n",
       "      <td>2015-06-20 19:36:17</td>\n",
       "      <td>2015-06-20 20:10:49</td>\n",
       "      <td>1</td>\n",
       "      <td>15.50</td>\n",
       "      <td>-73.777054</td>\n",
       "      <td>40.644947</td>\n",
       "      <td>NaN</td>\n",
       "      <td>Y</td>\n",
       "      <td>-73.946800</td>\n",
       "      <td>...</td>\n",
       "      <td>34.533333</td>\n",
       "      <td>2015</td>\n",
       "      <td>20</td>\n",
       "      <td>6</td>\n",
       "      <td>Saturday</td>\n",
       "      <td>19</td>\n",
       "      <td>-0.080074</td>\n",
       "      <td>0.169746</td>\n",
       "      <td>dr5x1</td>\n",
       "      <td>dr5rt</td>\n",
       "    </tr>\n",
       "  </tbody>\n",
       "</table>\n",
       "<p>5 rows × 29 columns</p>\n",
       "</div>"
      ],
      "text/plain": [
       "   vendor_id     pickup_datetime    dropoff_datetime  passenger_count  \\\n",
       "0          2 2015-07-18 11:25:58 2015-07-18 11:43:47                1   \n",
       "1          1 2015-03-15 12:50:01 2015-03-15 13:23:35                1   \n",
       "2          2 2015-04-30 12:25:44 2015-04-30 13:03:51                1   \n",
       "3          2 2015-05-28 08:47:56 2015-05-28 09:26:08                1   \n",
       "4          1 2015-06-20 19:36:17 2015-06-20 20:10:49                1   \n",
       "\n",
       "   trip_distance  pickup_longitude  pickup_latitude  rate_code  \\\n",
       "0           7.21        -73.862762        40.769028        1.0   \n",
       "1          10.80        -73.870926        40.773727        NaN   \n",
       "2           4.28        -73.978180        40.762341        NaN   \n",
       "3          18.47        -73.776711        40.645302        NaN   \n",
       "4          15.50        -73.777054        40.644947        NaN   \n",
       "\n",
       "  store_and_fwd_flag  dropoff_longitude  ...  trip_duration  year  day  month  \\\n",
       "0                  N         -73.949203  ...      17.816667  2015   18      7   \n",
       "1                  N         -73.988228  ...      33.566667  2015   15      3   \n",
       "2                  N         -74.008911  ...      38.116667  2015   30      4   \n",
       "3                  N         -73.843422  ...      38.200000  2015   28      5   \n",
       "4                  Y         -73.946800  ...      34.533333  2015   20      6   \n",
       "\n",
       "   day_of_week  hour_of_day   lat_dif   lon_dif  pickup_geohash  \\\n",
       "0     Saturday           11  0.046444  0.086441           dr5rz   \n",
       "1       Sunday           12  0.008034  0.117302           dr5rz   \n",
       "2     Thursday           12  0.051552  0.030731           dr5ru   \n",
       "3     Thursday            8 -0.207550  0.066711           dr5x1   \n",
       "4     Saturday           19 -0.080074  0.169746           dr5x1   \n",
       "\n",
       "   dropoff_geohash  \n",
       "0            dr5rt  \n",
       "1            dr5ru  \n",
       "2            dr5re  \n",
       "3            dr72r  \n",
       "4            dr5rt  \n",
       "\n",
       "[5 rows x 29 columns]"
      ]
     },
     "execution_count": 146,
     "metadata": {},
     "output_type": "execute_result"
    }
   ],
   "source": [
    "df_filtered['day'] = df_filtered['pickup_datetime'].dt.day\n",
    "df_filtered['month'] = df_filtered['pickup_datetime'].dt.month\n",
    "df_filtered['day_of_week'] = df_filtered['pickup_datetime'].dt.weekday_name\n",
    "df_filtered['hour_of_day'] = df_filtered['pickup_datetime'].dt.hour\n",
    "df_filtered['lat_dif'] = df_filtered['pickup_latitude'] - df_filtered['dropoff_latitude']\n",
    "df_filtered['lon_dif'] = df_filtered['pickup_longitude'] - df_filtered['dropoff_longitude']\n",
    "df_filtered['pickup_geohash']=df_filtered.apply(lambda x: gh.encode(x.pickup_latitude, x.pickup_longitude, precision=5), axis=1)\n",
    "df_filtered['dropoff_geohash']=df_filtered.apply(lambda x: gh.encode(x.dropoff_latitude, x.dropoff_longitude, precision=5), axis=1)\n",
    "\n",
    "df_filtered.head()"
   ]
  },
  {
   "cell_type": "code",
   "execution_count": 147,
   "metadata": {},
   "outputs": [
    {
     "data": {
      "text/plain": [
       "(179231, 29)"
      ]
     },
     "execution_count": 147,
     "metadata": {},
     "output_type": "execute_result"
    }
   ],
   "source": [
    "df_filtered.shape"
   ]
  },
  {
   "cell_type": "code",
   "execution_count": 148,
   "metadata": {},
   "outputs": [
    {
     "data": {
      "text/plain": [
       "(135568, 29)"
      ]
     },
     "execution_count": 148,
     "metadata": {},
     "output_type": "execute_result"
    }
   ],
   "source": [
    "df_filtered = df_filtered[df_filtered['lat_dif'].notnull() & df_filtered['lon_dif'].notnull()]\n",
    "df_filtered.shape"
   ]
  },
  {
   "cell_type": "code",
   "execution_count": 149,
   "metadata": {},
   "outputs": [
    {
     "data": {
      "text/plain": [
       "vendor_id                 0\n",
       "pickup_datetime           0\n",
       "dropoff_datetime          0\n",
       "passenger_count           0\n",
       "trip_distance             0\n",
       "pickup_longitude          0\n",
       "pickup_latitude           0\n",
       "rate_code             45595\n",
       "store_and_fwd_flag        0\n",
       "dropoff_longitude         0\n",
       "dropoff_latitude          0\n",
       "payment_type              0\n",
       "fare_amount               0\n",
       "extra                     0\n",
       "mta_tax                   0\n",
       "tip_amount                0\n",
       "tolls_amount              0\n",
       "imp_surcharge             0\n",
       "total_amount              0\n",
       "trip_duration             0\n",
       "year                      0\n",
       "day                       0\n",
       "month                     0\n",
       "day_of_week               0\n",
       "hour_of_day               0\n",
       "lat_dif                   0\n",
       "lon_dif                   0\n",
       "pickup_geohash            0\n",
       "dropoff_geohash           0\n",
       "dtype: int64"
      ]
     },
     "execution_count": 149,
     "metadata": {},
     "output_type": "execute_result"
    }
   ],
   "source": [
    "df_filtered.isna().sum()"
   ]
  },
  {
   "cell_type": "code",
   "execution_count": 176,
   "metadata": {},
   "outputs": [],
   "source": [
    "y = df_filtered[['fare_amount', 'year']]\n",
    "X = df_filtered[['passenger_count', 'trip_distance', 'trip_duration', 'year', 'month', 'day_of_week', 'hour_of_day', 'lat_dif', 'lon_dif', 'pickup_geohash']]\n",
    "X_encoded = pd.get_dummies(X, columns=['month', 'day_of_week', 'hour_of_day', 'pickup_geohash'])"
   ]
  },
  {
   "cell_type": "code",
   "execution_count": 212,
   "metadata": {},
   "outputs": [
    {
     "data": {
      "image/png": "[encoded data removed]",
      "text/plain": [
       "<Figure size 720x720 with 9 Axes>"
      ]
     },
     "metadata": {
      "needs_background": "light"
     },
     "output_type": "display_data"
    }
   ],
   "source": [
    "X.hist(figsize = (10,10));"
   ]
  },
  {
   "cell_type": "code",
   "execution_count": 177,
   "metadata": {},
   "outputs": [],
   "source": [
    "X_train, y_train, X_test, y_test = train_test_split(X_encoded, y)"
   ]
  },
  {
   "cell_type": "code",
   "execution_count": 178,
   "metadata": {},
   "outputs": [
    {
     "name": "stdout",
     "output_type": "stream",
     "text": [
      "----Training Data results (2015 data set)----\n",
      "RMSE: $5.3\n",
      "R2: 0.81\n",
      "\n",
      "----Test Data results (2016 data set)----\n",
      "RMSE: $5.1\n",
      "R2: 0.83\n",
      "\n"
     ]
    }
   ],
   "source": [
    "# Multivariate Model\n",
    "lm = LinearRegression().fit(X_train,y_train)\n",
    "model_results(X_train, y_train, X_test, y_test, lm)"
   ]
  },
  {
   "cell_type": "markdown",
   "metadata": {},
   "source": [
    "# Feature Engineering results\n",
    "- Through trial and error found that adding dropoff_geohash is leading to overfit so drop this from the features list \n",
    "- Multivariate linear model has improved the RMSE to 5.1\n",
    "- Since the Training Data still has high RMSE, the linear model is suffering from high Bias\n",
    "- Try Boosting models to improve the Bias"
   ]
  },
  {
   "cell_type": "markdown",
   "metadata": {},
   "source": [
    "# Advanced Models"
   ]
  },
  {
   "cell_type": "code",
   "execution_count": 30,
   "metadata": {},
   "outputs": [
    {
     "name": "stdout",
     "output_type": "stream",
     "text": [
      "----Training Data results (2015 data set)----\n",
      "RMSE: $3.9\n",
      "R2: 0.90\n",
      "\n",
      "----Test Data results (2016 data set)----\n",
      "RMSE: $4.0\n",
      "R2: 0.89\n",
      "\n"
     ]
    }
   ],
   "source": [
    "params = {'n_estimators': 500, 'max_depth': 4, 'min_samples_split': 2, 'learning_rate': 0.01, 'loss': 'ls'}\n",
    "gbr = ensemble.GradientBoostingRegressor(**params)\n",
    "gbr.fit(X_train, y_train)\n",
    "model_results(X_train, y_train, X_test, y_test, gbr)"
   ]
  },
  {
   "cell_type": "code",
   "execution_count": 31,
   "metadata": {},
   "outputs": [],
   "source": [
    "def importances(X_train, model):\n",
    "    # Plot feature importance\n",
    "    feature_importance = model.feature_importances_\n",
    "    # make importances relative to max importance\n",
    "    feature_importance = 100.0 * (feature_importance / feature_importance.max())\n",
    "    sorted_idx = np.argsort(feature_importance)[::-1][:20][::-1]\n",
    "    names = [X_train.columns[index] for index in sorted_idx]\n",
    "    pos = np.arange(sorted_idx.shape[0]) + .5\n",
    "    plt.figure(figsize=(10,10))\n",
    "    plt.barh(pos, feature_importance[sorted_idx], align='center')\n",
    "    plt.yticks(pos, names)\n",
    "    plt.xlabel('Relative Importance')\n",
    "    plt.title('Variable Importance')\n",
    "    plt.tight_layout()\n",
    "    plt.show()"
   ]
  },
  {
   "cell_type": "code",
   "execution_count": 32,
   "metadata": {},
   "outputs": [
    {
     "data": {
      "image/png": "[encoded data removed]",
      "text/plain": [
       "<Figure size 720x720 with 1 Axes>"
      ]
     },
     "metadata": {
      "needs_background": "light"
     },
     "output_type": "display_data"
    }
   ],
   "source": [
    "importances(X_train, gbr)"
   ]
  },
  {
   "cell_type": "markdown",
   "metadata": {},
   "source": [
    "# Advanced Model results\n",
    "- Boosting model has significantly improved the RMSE to 4\n",
    "- Try Data Augmentation to drive RMSE lower"
   ]
  },
  {
   "cell_type": "markdown",
   "metadata": {},
   "source": [
    "# Data Augmentation\n",
    "- Weather might play a role in taxi fare\n",
    "- Big Query has weather data\n",
    "- Choose 1 station within new york to augment weather data to original dataset"
   ]
  },
  {
   "cell_type": "code",
   "execution_count": 33,
   "metadata": {},
   "outputs": [
    {
     "data": {
      "text/html": [
       "<div>\n",
       "<style scoped>\n",
       "    .dataframe tbody tr th:only-of-type {\n",
       "        vertical-align: middle;\n",
       "    }\n",
       "\n",
       "    .dataframe tbody tr th {\n",
       "        vertical-align: top;\n",
       "    }\n",
       "\n",
       "    .dataframe thead th {\n",
       "        text-align: right;\n",
       "    }\n",
       "</style>\n",
       "<table border=\"1\" class=\"dataframe\">\n",
       "  <thead>\n",
       "    <tr style=\"text-align: right;\">\n",
       "      <th></th>\n",
       "      <th>year</th>\n",
       "      <th>month</th>\n",
       "      <th>day</th>\n",
       "      <th>min_temp</th>\n",
       "      <th>max_temp</th>\n",
       "      <th>prcp</th>\n",
       "      <th>sndp</th>\n",
       "    </tr>\n",
       "  </thead>\n",
       "  <tbody>\n",
       "    <tr>\n",
       "      <th>0</th>\n",
       "      <td>2016</td>\n",
       "      <td>4</td>\n",
       "      <td>3</td>\n",
       "      <td>35.1</td>\n",
       "      <td>61.0</td>\n",
       "      <td>0.24</td>\n",
       "      <td>999.9</td>\n",
       "    </tr>\n",
       "    <tr>\n",
       "      <th>1</th>\n",
       "      <td>2016</td>\n",
       "      <td>3</td>\n",
       "      <td>21</td>\n",
       "      <td>33.1</td>\n",
       "      <td>50.0</td>\n",
       "      <td>0.14</td>\n",
       "      <td>999.9</td>\n",
       "    </tr>\n",
       "    <tr>\n",
       "      <th>2</th>\n",
       "      <td>2016</td>\n",
       "      <td>8</td>\n",
       "      <td>5</td>\n",
       "      <td>70.0</td>\n",
       "      <td>86.0</td>\n",
       "      <td>0.00</td>\n",
       "      <td>999.9</td>\n",
       "    </tr>\n",
       "    <tr>\n",
       "      <th>3</th>\n",
       "      <td>2016</td>\n",
       "      <td>10</td>\n",
       "      <td>31</td>\n",
       "      <td>46.9</td>\n",
       "      <td>60.1</td>\n",
       "      <td>0.76</td>\n",
       "      <td>999.9</td>\n",
       "    </tr>\n",
       "    <tr>\n",
       "      <th>4</th>\n",
       "      <td>2016</td>\n",
       "      <td>3</td>\n",
       "      <td>25</td>\n",
       "      <td>44.1</td>\n",
       "      <td>73.0</td>\n",
       "      <td>0.00</td>\n",
       "      <td>999.9</td>\n",
       "    </tr>\n",
       "  </tbody>\n",
       "</table>\n",
       "</div>"
      ],
      "text/plain": [
       "   year  month  day  min_temp  max_temp  prcp   sndp\n",
       "0  2016      4    3      35.1      61.0  0.24  999.9\n",
       "1  2016      3   21      33.1      50.0  0.14  999.9\n",
       "2  2016      8    5      70.0      86.0  0.00  999.9\n",
       "3  2016     10   31      46.9      60.1  0.76  999.9\n",
       "4  2016      3   25      44.1      73.0  0.00  999.9"
      ]
     },
     "execution_count": 33,
     "metadata": {},
     "output_type": "execute_result"
    }
   ],
   "source": [
    "weather_df = pd.read_csv('weather_data.csv')\n",
    "weather_df.drop(['Unnamed: 0'], axis = 1, inplace = True)\n",
    "weather_df.head()"
   ]
  },
  {
   "cell_type": "code",
   "execution_count": 34,
   "metadata": {},
   "outputs": [
    {
     "data": {
      "text/html": [
       "<div>\n",
       "<style scoped>\n",
       "    .dataframe tbody tr th:only-of-type {\n",
       "        vertical-align: middle;\n",
       "    }\n",
       "\n",
       "    .dataframe tbody tr th {\n",
       "        vertical-align: top;\n",
       "    }\n",
       "\n",
       "    .dataframe thead th {\n",
       "        text-align: right;\n",
       "    }\n",
       "</style>\n",
       "<table border=\"1\" class=\"dataframe\">\n",
       "  <thead>\n",
       "    <tr style=\"text-align: right;\">\n",
       "      <th></th>\n",
       "      <th>vendor_id</th>\n",
       "      <th>pickup_datetime</th>\n",
       "      <th>dropoff_datetime</th>\n",
       "      <th>passenger_count</th>\n",
       "      <th>trip_distance</th>\n",
       "      <th>pickup_longitude</th>\n",
       "      <th>pickup_latitude</th>\n",
       "      <th>rate_code</th>\n",
       "      <th>store_and_fwd_flag</th>\n",
       "      <th>dropoff_longitude</th>\n",
       "      <th>...</th>\n",
       "      <th>day_of_week</th>\n",
       "      <th>hour_of_day</th>\n",
       "      <th>lat_dif</th>\n",
       "      <th>lon_dif</th>\n",
       "      <th>pickup_geohash</th>\n",
       "      <th>dropoff_geohash</th>\n",
       "      <th>min_temp</th>\n",
       "      <th>max_temp</th>\n",
       "      <th>prcp</th>\n",
       "      <th>sndp</th>\n",
       "    </tr>\n",
       "  </thead>\n",
       "  <tbody>\n",
       "    <tr>\n",
       "      <th>0</th>\n",
       "      <td>2</td>\n",
       "      <td>2015-07-18 11:25:58</td>\n",
       "      <td>2015-07-18 11:43:47</td>\n",
       "      <td>1</td>\n",
       "      <td>7.21</td>\n",
       "      <td>-73.862762</td>\n",
       "      <td>40.769028</td>\n",
       "      <td>1.0</td>\n",
       "      <td>N</td>\n",
       "      <td>-73.949203</td>\n",
       "      <td>...</td>\n",
       "      <td>Saturday</td>\n",
       "      <td>11</td>\n",
       "      <td>0.046444</td>\n",
       "      <td>0.086441</td>\n",
       "      <td>dr5rz</td>\n",
       "      <td>dr5rt</td>\n",
       "      <td>68.0</td>\n",
       "      <td>86.0</td>\n",
       "      <td>0.0</td>\n",
       "      <td>999.9</td>\n",
       "    </tr>\n",
       "    <tr>\n",
       "      <th>1</th>\n",
       "      <td>1</td>\n",
       "      <td>2015-07-18 05:45:28</td>\n",
       "      <td>2015-07-18 06:10:13</td>\n",
       "      <td>1</td>\n",
       "      <td>14.00</td>\n",
       "      <td>-74.011505</td>\n",
       "      <td>40.702785</td>\n",
       "      <td>1.0</td>\n",
       "      <td>N</td>\n",
       "      <td>-74.088554</td>\n",
       "      <td>...</td>\n",
       "      <td>Saturday</td>\n",
       "      <td>5</td>\n",
       "      <td>0.103264</td>\n",
       "      <td>0.077049</td>\n",
       "      <td>dr5re</td>\n",
       "      <td>dr5qf</td>\n",
       "      <td>68.0</td>\n",
       "      <td>86.0</td>\n",
       "      <td>0.0</td>\n",
       "      <td>999.9</td>\n",
       "    </tr>\n",
       "    <tr>\n",
       "      <th>2</th>\n",
       "      <td>1</td>\n",
       "      <td>2015-07-18 00:22:24</td>\n",
       "      <td>2015-07-18 00:50:07</td>\n",
       "      <td>1</td>\n",
       "      <td>6.10</td>\n",
       "      <td>-74.008011</td>\n",
       "      <td>40.741375</td>\n",
       "      <td>1.0</td>\n",
       "      <td>N</td>\n",
       "      <td>-73.963081</td>\n",
       "      <td>...</td>\n",
       "      <td>Saturday</td>\n",
       "      <td>0</td>\n",
       "      <td>-0.062584</td>\n",
       "      <td>-0.044930</td>\n",
       "      <td>dr5rg</td>\n",
       "      <td>dr72h</td>\n",
       "      <td>68.0</td>\n",
       "      <td>86.0</td>\n",
       "      <td>0.0</td>\n",
       "      <td>999.9</td>\n",
       "    </tr>\n",
       "    <tr>\n",
       "      <th>3</th>\n",
       "      <td>1</td>\n",
       "      <td>2015-07-18 21:58:53</td>\n",
       "      <td>2015-07-18 22:16:51</td>\n",
       "      <td>1</td>\n",
       "      <td>7.50</td>\n",
       "      <td>-73.970001</td>\n",
       "      <td>40.785599</td>\n",
       "      <td>1.0</td>\n",
       "      <td>N</td>\n",
       "      <td>-73.933266</td>\n",
       "      <td>...</td>\n",
       "      <td>Saturday</td>\n",
       "      <td>21</td>\n",
       "      <td>-0.071918</td>\n",
       "      <td>-0.036736</td>\n",
       "      <td>dr72h</td>\n",
       "      <td>dr72m</td>\n",
       "      <td>68.0</td>\n",
       "      <td>86.0</td>\n",
       "      <td>0.0</td>\n",
       "      <td>999.9</td>\n",
       "    </tr>\n",
       "    <tr>\n",
       "      <th>4</th>\n",
       "      <td>1</td>\n",
       "      <td>2015-07-18 11:19:37</td>\n",
       "      <td>2015-07-18 11:46:54</td>\n",
       "      <td>2</td>\n",
       "      <td>10.00</td>\n",
       "      <td>-73.862732</td>\n",
       "      <td>40.769016</td>\n",
       "      <td>1.0</td>\n",
       "      <td>N</td>\n",
       "      <td>-73.987709</td>\n",
       "      <td>...</td>\n",
       "      <td>Saturday</td>\n",
       "      <td>11</td>\n",
       "      <td>0.047882</td>\n",
       "      <td>0.124977</td>\n",
       "      <td>dr5rz</td>\n",
       "      <td>dr5rs</td>\n",
       "      <td>68.0</td>\n",
       "      <td>86.0</td>\n",
       "      <td>0.0</td>\n",
       "      <td>999.9</td>\n",
       "    </tr>\n",
       "  </tbody>\n",
       "</table>\n",
       "<p>5 rows × 33 columns</p>\n",
       "</div>"
      ],
      "text/plain": [
       "   vendor_id     pickup_datetime    dropoff_datetime  passenger_count  \\\n",
       "0          2 2015-07-18 11:25:58 2015-07-18 11:43:47                1   \n",
       "1          1 2015-07-18 05:45:28 2015-07-18 06:10:13                1   \n",
       "2          1 2015-07-18 00:22:24 2015-07-18 00:50:07                1   \n",
       "3          1 2015-07-18 21:58:53 2015-07-18 22:16:51                1   \n",
       "4          1 2015-07-18 11:19:37 2015-07-18 11:46:54                2   \n",
       "\n",
       "   trip_distance  pickup_longitude  pickup_latitude  rate_code  \\\n",
       "0           7.21        -73.862762        40.769028        1.0   \n",
       "1          14.00        -74.011505        40.702785        1.0   \n",
       "2           6.10        -74.008011        40.741375        1.0   \n",
       "3           7.50        -73.970001        40.785599        1.0   \n",
       "4          10.00        -73.862732        40.769016        1.0   \n",
       "\n",
       "  store_and_fwd_flag  dropoff_longitude  ...  day_of_week  hour_of_day  \\\n",
       "0                  N         -73.949203  ...     Saturday           11   \n",
       "1                  N         -74.088554  ...     Saturday            5   \n",
       "2                  N         -73.963081  ...     Saturday            0   \n",
       "3                  N         -73.933266  ...     Saturday           21   \n",
       "4                  N         -73.987709  ...     Saturday           11   \n",
       "\n",
       "    lat_dif   lon_dif  pickup_geohash  dropoff_geohash  min_temp  max_temp  \\\n",
       "0  0.046444  0.086441           dr5rz            dr5rt      68.0      86.0   \n",
       "1  0.103264  0.077049           dr5re            dr5qf      68.0      86.0   \n",
       "2 -0.062584 -0.044930           dr5rg            dr72h      68.0      86.0   \n",
       "3 -0.071918 -0.036736           dr72h            dr72m      68.0      86.0   \n",
       "4  0.047882  0.124977           dr5rz            dr5rs      68.0      86.0   \n",
       "\n",
       "   prcp   sndp  \n",
       "0   0.0  999.9  \n",
       "1   0.0  999.9  \n",
       "2   0.0  999.9  \n",
       "3   0.0  999.9  \n",
       "4   0.0  999.9  \n",
       "\n",
       "[5 rows x 33 columns]"
      ]
     },
     "execution_count": 34,
     "metadata": {},
     "output_type": "execute_result"
    }
   ],
   "source": [
    "df_augmented = df_filtered.merge(weather_df, how='inner', on = ['year', 'month', 'day'])\n",
    "df_augmented.head()"
   ]
  },
  {
   "cell_type": "code",
   "execution_count": 35,
   "metadata": {},
   "outputs": [
    {
     "data": {
      "image/png": "[encoded data removed]",
      "text/plain": [
       "<Figure size 1440x360 with 4 Axes>"
      ]
     },
     "metadata": {
      "needs_background": "light"
     },
     "output_type": "display_data"
    }
   ],
   "source": [
    "df_augmented[['min_temp','max_temp', 'prcp', 'sndp']].hist(figsize = (20,5), bins=50);"
   ]
  },
  {
   "cell_type": "code",
   "execution_count": 36,
   "metadata": {},
   "outputs": [],
   "source": [
    "# prcp and sndp seem to have 2 classes. Manually encode them\n",
    "df_augmented['prcp_class'] = np.where(df_augmented['prcp']>=90, 'rain', 'dry')\n",
    "df_augmented['sndp_class'] = np.where(df_augmented['sndp']>=900, 'snow', 'dry')"
   ]
  },
  {
   "cell_type": "code",
   "execution_count": 37,
   "metadata": {},
   "outputs": [],
   "source": [
    "y = df_augmented[['fare_amount', 'year']]\n",
    "X = df_augmented[['passenger_count', 'trip_distance', 'trip_duration', 'year', 'month', 'day_of_week', 'hour_of_day', 'lat_dif', 'lon_dif', 'pickup_geohash', 'min_temp', 'max_temp', 'prcp_class', 'sndp_class']]\n",
    "X_encoded = pd.get_dummies(X, columns=['month', 'day_of_week', 'hour_of_day', 'pickup_geohash', 'prcp_class', 'sndp_class'])"
   ]
  },
  {
   "cell_type": "code",
   "execution_count": 38,
   "metadata": {},
   "outputs": [],
   "source": [
    "X_train, y_train, X_test, y_test = train_test_split(X_encoded, y)"
   ]
  },
  {
   "cell_type": "code",
   "execution_count": 39,
   "metadata": {},
   "outputs": [
    {
     "name": "stdout",
     "output_type": "stream",
     "text": [
      "----Training Data results (2015 data set)----\n",
      "RMSE: $3.9\n",
      "R2: 0.90\n",
      "\n",
      "----Test Data results (2016 data set)----\n",
      "RMSE: $4.0\n",
      "R2: 0.89\n",
      "\n"
     ]
    }
   ],
   "source": [
    "params = {'n_estimators': 500, 'max_depth': 4, 'min_samples_split': 2, 'learning_rate': 0.01, 'loss': 'ls'}\n",
    "gbr = ensemble.GradientBoostingRegressor(**params)\n",
    "gbr.fit(X_train, y_train)\n",
    "\n",
    "model_results(X_train, y_train, X_test, y_test, gbr)"
   ]
  },
  {
   "cell_type": "code",
   "execution_count": null,
   "metadata": {},
   "outputs": [],
   "source": [
    "importances(X_train, gbr)"
   ]
  },
  {
   "cell_type": "markdown",
   "metadata": {},
   "source": [
    "# Data Augmentation Results\n",
    "- No difference in RMSE with additional weather features"
   ]
  },
  {
   "cell_type": "markdown",
   "metadata": {},
   "source": [
    "# Hyperparameter Tuning\n",
    "- Try tuning hyperparameters to reduce RMSE"
   ]
  },
  {
   "cell_type": "code",
   "execution_count": 100,
   "metadata": {},
   "outputs": [],
   "source": [
    "y = df_filtered[['fare_amount', 'year']]\n",
    "X = df_filtered[['passenger_count', 'trip_distance', 'trip_duration', 'year', 'month', 'day_of_week', 'hour_of_day', 'lat_dif', 'lon_dif', 'pickup_geohash']]\n",
    "X_encoded = pd.get_dummies(X, columns=['month', 'day_of_week', 'hour_of_day', 'pickup_geohash'])"
   ]
  },
  {
   "cell_type": "code",
   "execution_count": 101,
   "metadata": {},
   "outputs": [],
   "source": [
    "X_train, y_train, X_test, y_test = train_test_split(X_encoded, y)"
   ]
  },
  {
   "cell_type": "code",
   "execution_count": null,
   "metadata": {},
   "outputs": [],
   "source": [
    "# Hyper Parameter Tuning\n",
    "from sklearn.model_selection import GridSearchCV\n",
    "\n",
    "parameters = {\n",
    "    'learning_rate': [0.1, 0.15, 0.2],\n",
    "    'min_samples_split': [2, 10],\n",
    "    'min_samples_leaf': [2, 10],\n",
    "    'max_depth':[4, 5],\n",
    "    'n_estimators':[500, 1000]\n",
    "    }\n",
    "\n",
    "gbr_tuned = GridSearchCV(ensemble.GradientBoostingRegressor(), parameters, cv=5, n_jobs=4)\n",
    "gbr_tuned.fit(X_train, y_train)\n",
    "\n",
    "print(gbr_tuned.best_params_)\n",
    "model_results(X_train, y_train, X_test, y_test, gbr_tuned)"
   ]
  },
  {
   "cell_type": "code",
   "execution_count": 42,
   "metadata": {},
   "outputs": [
    {
     "name": "stdout",
     "output_type": "stream",
     "text": [
      "----Training Data results (2015 data set)----\n",
      "RMSE: $2.4\n",
      "R2: 0.96\n",
      "\n",
      "----Test Data results (2016 data set)----\n",
      "RMSE: $3.5\n",
      "R2: 0.92\n",
      "\n"
     ]
    }
   ],
   "source": [
    "params = {\n",
    "    'learning_rate':0.1,\n",
    "    'min_samples_split':10,\n",
    "    'min_samples_leaf':10,\n",
    "    'max_depth':4,\n",
    "    'n_estimators':1000}\n",
    "gbr_tuned = ensemble.GradientBoostingRegressor(**params)\n",
    "gbr_tuned.fit(X_train, y_train)\n",
    "model_results(X_train, y_train, X_test, y_test, gbr_tuned)"
   ]
  },
  {
   "cell_type": "markdown",
   "metadata": {},
   "source": [
    "# Hyperparameter Tuning Results\n",
    "- Hyperparameter tuning has reduced the RMSE to 3.5\n",
    "- However, there is overfitting as the Training dataset has much lower RMSE than Test data set\n",
    "- Try an alternative approach. One idea is to feedforward the prediction error from one model to a Gradient Boosting model "
   ]
  },
  {
   "cell_type": "markdown",
   "metadata": {},
   "source": [
    "# Novel 2-stage modeling technique\n",
    "- A novel approach to this problem is to feedforward the prediction error from one model to a Gradient Boosting model \n",
    "- If the training and testing data sets are kept isolated, we can prevent information leakage and ensure the resultant 2-stage model is robust in prediction\n",
    "## Detailed steps are:\n",
    "1. Fit a multivariate linear model on X_train\n",
    "2. Use this model from to calculate y_train_pred from y_train\n",
    "3. Calculate the prediction error on train data set as y_train_pred - y_train \n",
    "4. Create X_train_2 as X_train + append the prediction error\n",
    "5. Fit a Gradient Boosting Regression model using X_train_2. The prediction error becomes another feature used by the model."
   ]
  },
  {
   "cell_type": "code",
   "execution_count": 216,
   "metadata": {},
   "outputs": [],
   "source": [
    "y = df_filtered[['fare_amount', 'year']]\n",
    "X = df_filtered[['passenger_count', 'trip_distance', 'trip_duration', 'year', 'month', 'day_of_week', 'hour_of_day', 'lat_dif', 'lon_dif', 'pickup_geohash']]\n",
    "X_encoded = pd.get_dummies(X, columns=['month', 'day_of_week', 'hour_of_day', 'pickup_geohash'])"
   ]
  },
  {
   "cell_type": "code",
   "execution_count": 217,
   "metadata": {},
   "outputs": [],
   "source": [
    "X_train, y_train, X_test, y_test = train_test_split(X_encoded, y)"
   ]
  },
  {
   "cell_type": "code",
   "execution_count": 218,
   "metadata": {},
   "outputs": [
    {
     "name": "stdout",
     "output_type": "stream",
     "text": [
      "----Training Data results (2015 data set)----\n",
      "RMSE: $5.3\n",
      "R2: 0.81\n",
      "\n",
      "----Test Data results (2016 data set)----\n",
      "RMSE: $5.1\n",
      "R2: 0.83\n",
      "\n"
     ]
    }
   ],
   "source": [
    "# Multivariate Model\n",
    "lm = LinearRegression().fit(X_train,y_train)\n",
    "model_results(X_train, y_train, X_test, y_test, lm)"
   ]
  },
  {
   "cell_type": "code",
   "execution_count": 219,
   "metadata": {},
   "outputs": [],
   "source": [
    "# Feed prediction error of Linear Multivariate model to GBR to try and reduce Bias further\n",
    "y_train_pred = lm.predict(X_train)\n",
    "y_test_pred = lm.predict(X_test)"
   ]
  },
  {
   "cell_type": "code",
   "execution_count": 220,
   "metadata": {},
   "outputs": [],
   "source": [
    "X_train_2 = X_train\n",
    "X_test_2 = X_test\n",
    "X_train_2['lm_pred_err'] = y_train_pred - y_train\n",
    "X_test_2['lm_pred_err'] = y_test_pred - y_test"
   ]
  },
  {
   "cell_type": "code",
   "execution_count": 221,
   "metadata": {},
   "outputs": [
    {
     "name": "stdout",
     "output_type": "stream",
     "text": [
      "----Training Data results (2015 data set)----\n",
      "RMSE: $0.5\n",
      "R2: 1.00\n",
      "\n",
      "----Test Data results (2016 data set)----\n",
      "RMSE: $0.7\n",
      "R2: 1.00\n",
      "\n"
     ]
    }
   ],
   "source": [
    "params = {\n",
    "    'learning_rate':0.1,\n",
    "    'min_samples_split':10,\n",
    "    'min_samples_leaf':10,\n",
    "    'max_depth':4,\n",
    "    'n_estimators':1000}\n",
    "gbr_tuned_2 = ensemble.GradientBoostingRegressor(**params)\n",
    "gbr_tuned_2.fit(X_train_2, y_train)\n",
    "model_results(X_train_2, y_train, X_test_2, y_test, gbr_tuned_2)"
   ]
  },
  {
   "cell_type": "code",
   "execution_count": 222,
   "metadata": {},
   "outputs": [
    {
     "data": {
      "image/png": "[encoded data removed]",
      "text/plain": [
       "<Figure size 432x288 with 1 Axes>"
      ]
     },
     "metadata": {
      "needs_background": "light"
     },
     "output_type": "display_data"
    }
   ],
   "source": [
    "y_train_pred = gbr_tuned_2.predict(X_train_2)\n",
    "y_test_pred = gbr_tuned_2.predict(X_test_2)\n",
    "test_data_fit = LinearRegression().fit(y_test_pred.reshape(-1, 1),y_test)\n",
    "slope = test_data_fit.coef_[0]\n",
    "intercept = test_data_fit.intercept_\n",
    "\n",
    "plt.scatter(y_train_pred, y_train, alpha = 0.5, label = 'Training Data (2015)')\n",
    "plt.scatter(y_test_pred, y_test, alpha = 0.5, label = 'Test Data (2016)')\n",
    "plt.plot(y_test_pred, line, 'r', label='y = ({:.2f}) x + ({:.2f})'.format(slope,intercept))\n",
    "plt.legend(loc = 'lower right')\n",
    "plt.xlabel('Predicted Fare ($)')\n",
    "plt.ylabel('Actual Fare ($)');"
   ]
  },
  {
   "cell_type": "markdown",
   "metadata": {},
   "source": [
    "# Novel 2-stage modeling technique Conclusion\n",
    "- This 2-step model technique can reduce the RMSE drastically to 0.8\n",
    "- Lock in this as the final prediction model\n",
    "- 1st stage is a LinearRegression Model\n",
    "- 2nd stage is a GradientBoostingRegressor model with the prediciton error from 1st stage as the only additional feature compared to 1st stage\n",
    "- Final RMSE on test data set is 0.7"
   ]
  },
  {
   "cell_type": "markdown",
   "metadata": {},
   "source": [
    "# Conclusion\n",
    "- Various methods were tried out to predict the fare amount of individual trips\n",
    "- Data from 2015 was used to build the models and data from 2016 was used to test the model performance\n",
    "- RMSE (root mean square error) was chosen as a metric to evaluate model performance as it can directly give us the error in dollars\n",
    "- A novel 2-stage model using a multivariate linear model in the first stage and a gradient boosting regressor in the second stage give the best model performance with RMSE = &#36; 0.7 for testing data\n",
    "\n",
    "## Model RMSE on test data compilation\n",
    "- Simple bivariate linear regression RMSE: &#36; 5.5\n",
    "- Multivariate linear regression with new features engineered RMSE: &#36; 5.1\n",
    "- Gradient boosting regression RMSE: &#36; 4.0\n",
    "- Gradient boosting regression with Weather data augmented RMSE: &#36; 4.0\n",
    "- Gradient boosting regression with Hyper Parameters tuning RMSE: &#36; 3.5\n",
    "- 2-stage modeling technique RMSE: &#36; 0.7"
   ]
  },
  {
   "cell_type": "code",
   "execution_count": null,
   "metadata": {},
   "outputs": [],
   "source": []
  }
 ],
 "metadata": {
  "kernelspec": {
   "display_name": "Python 2",
   "language": "python",
   "name": "python2"
  },
  "language_info": {
   "codemirror_mode": {
    "name": "ipython",
    "version": 2
   },
   "file_extension": ".py",
   "mimetype": "text/x-python",
   "name": "python",
   "nbconvert_exporter": "python",
   "pygments_lexer": "ipython2",
   "version": "2.7.15"
  }
 },
 "nbformat": 4,
 "nbformat_minor": 2
}
